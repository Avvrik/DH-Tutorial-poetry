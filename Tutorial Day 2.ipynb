{
 "cells": [
  {
   "cell_type": "markdown",
   "metadata": {},
   "source": [
    "### Building a Classifier"
   ]
  },
  {
   "cell_type": "code",
   "execution_count": 1,
   "metadata": {},
   "outputs": [],
   "source": [
    "from sklearn.model_selection import KFold\n",
    "from sklearn.metrics import recall_score\n",
    "from sklearn.metrics import classification_report\n",
    "from sklearn.naive_bayes import MultinomialNB\n",
    "from collections import Counter"
   ]
  },
  {
   "cell_type": "code",
   "execution_count": 2,
   "metadata": {},
   "outputs": [],
   "source": [
    "from sklearn.feature_extraction.text import TfidfVectorizer, CountVectorizer"
   ]
  },
  {
   "cell_type": "code",
   "execution_count": 3,
   "metadata": {},
   "outputs": [],
   "source": [
    "import numpy as np"
   ]
  },
  {
   "cell_type": "code",
   "execution_count": 4,
   "metadata": {},
   "outputs": [],
   "source": [
    "with open(\"lemmas_children.txt\", 'r', encoding = \"utf-8-sig\") as f:\n",
    "    children = f.read()\n",
    "with open(\"lemmas_lay.txt\", 'r', encoding = \"utf-8-sig\") as f:\n",
    "    lay = f.read()\n",
    "with open(\"lemmas_prof.txt\", 'r', encoding = \"utf-8-sig\") as f:\n",
    "    prof = f.read() "
   ]
  },
  {
   "cell_type": "code",
   "execution_count": 12,
   "metadata": {},
   "outputs": [],
   "source": [
    "child_texts = []\n",
    "child_hundred = []\n",
    "child_labels = []\n",
    "for ind,w in enumerate(children.split()):\n",
    "    if ind % 100 == 0 and ind != 0:\n",
    "        child_texts.append(' '.join(child_hundred))\n",
    "        child_labels.append('child')\n",
    "        child_hundred = []\n",
    "    else:\n",
    "        child_hundred.append(w)"
   ]
  },
  {
   "cell_type": "code",
   "execution_count": 14,
   "metadata": {},
   "outputs": [],
   "source": [
    "lay_texts = []\n",
    "lay_hundred = []\n",
    "lay_labels = []\n",
    "for ind,w in enumerate(lay.split()):\n",
    "    if ind % 100 == 0 and ind != 0:\n",
    "        lay_texts.append(' '.join(lay_hundred))\n",
    "        lay_labels.append('lay')\n",
    "        lay_hundred = []\n",
    "    else:\n",
    "        lay_hundred.append(w)"
   ]
  },
  {
   "cell_type": "code",
   "execution_count": 15,
   "metadata": {},
   "outputs": [],
   "source": [
    "prof_texts = []\n",
    "prof_hundred = []\n",
    "prof_labels = []\n",
    "for ind,w in enumerate(prof.split()):\n",
    "    if ind % 100 == 0 and ind != 0:\n",
    "        prof_texts.append(' '.join(prof_hundred))\n",
    "        prof_labels.append('prof')\n",
    "        prof_hundred = []\n",
    "    else:\n",
    "        prof_hundred.append(w)"
   ]
  },
  {
   "cell_type": "code",
   "execution_count": 16,
   "metadata": {},
   "outputs": [],
   "source": [
    "all_labels = child_labels + lay_labels + prof_labels\n",
    "all_texts = child_texts + lay_texts + prof_texts\n",
    "all_texts = np.asarray(all_texts)\n",
    "all_labels = np.asarray(all_labels)"
   ]
  },
  {
   "cell_type": "code",
   "execution_count": 10,
   "metadata": {},
   "outputs": [
    {
     "name": "stdout",
     "output_type": "stream",
     "text": [
      "KFold(n_splits=3, random_state=None, shuffle=True)\n"
     ]
    }
   ],
   "source": [
    "kf = KFold(n_splits=3, shuffle = True)\n",
    "kf.get_n_splits(all_texts)\n",
    "print(kf)"
   ]
  },
  {
   "cell_type": "code",
   "execution_count": 20,
   "metadata": {},
   "outputs": [
    {
     "name": "stdout",
     "output_type": "stream",
     "text": [
      "             precision    recall  f1-score   support\n",
      "\n",
      "      child       0.90      0.91      0.91       138\n",
      "        lay       0.86      0.80      0.83       124\n",
      "       prof       0.83      0.87      0.85       127\n",
      "\n",
      "avg / total       0.86      0.86      0.86       389\n",
      "\n",
      "             precision    recall  f1-score   support\n",
      "\n",
      "      child       0.91      0.93      0.92       148\n",
      "        lay       0.82      0.78      0.80       106\n",
      "       prof       0.82      0.84      0.83       135\n",
      "\n",
      "avg / total       0.86      0.86      0.86       389\n",
      "\n",
      "             precision    recall  f1-score   support\n",
      "\n",
      "      child       0.92      0.96      0.94       136\n",
      "        lay       0.85      0.82      0.84       114\n",
      "       prof       0.87      0.86      0.86       139\n",
      "\n",
      "avg / total       0.88      0.88      0.88       389\n",
      "\n"
     ]
    }
   ],
   "source": [
    "for train_index, test_index in kf.split(all_texts):\n",
    "    all_texts_train, all_texts_test = all_texts[train_index], all_texts[test_index]\n",
    "    all_labels_train, all_labels_test = all_labels[train_index], all_labels[test_index]\n",
    "    vect = TfidfVectorizer(min_df=8, max_df=0.6, stop_words = 'english')\n",
    "    tfidf_train = vect.fit_transform(all_texts_train)\n",
    "    tfidf_test = vect.transform(all_texts_test)\n",
    "    classifier = MultinomialNB()\n",
    "    classifier.fit(tfidf_train, all_labels_train)\n",
    "    predicted_labels = classifier.predict(tfidf_test)\n",
    "    classif_report = classification_report(all_labels_test, predicted_labels)\n",
    "    print(classif_report)\n",
    "\n"
   ]
  },
  {
   "cell_type": "code",
   "execution_count": null,
   "metadata": {},
   "outputs": [],
   "source": []
  },
  {
   "cell_type": "code",
   "execution_count": null,
   "metadata": {},
   "outputs": [],
   "source": []
  },
  {
   "cell_type": "code",
   "execution_count": null,
   "metadata": {},
   "outputs": [],
   "source": []
  }
 ],
 "metadata": {
  "kernelspec": {
   "display_name": "Python 3",
   "language": "python",
   "name": "python3"
  },
  "language_info": {
   "codemirror_mode": {
    "name": "ipython",
    "version": 3
   },
   "file_extension": ".py",
   "mimetype": "text/x-python",
   "name": "python",
   "nbconvert_exporter": "python",
   "pygments_lexer": "ipython3",
   "version": "3.6.4"
  }
 },
 "nbformat": 4,
 "nbformat_minor": 2
}
